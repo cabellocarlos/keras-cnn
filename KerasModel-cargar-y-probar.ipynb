{
 "cells": [
  {
   "cell_type": "markdown",
   "metadata": {},
   "source": [
    "# Cargar y probar un modelo de Keras"
   ]
  },
  {
   "cell_type": "markdown",
   "metadata": {},
   "source": [
    "## Cargar modelo desde .h5"
   ]
  },
  {
   "cell_type": "markdown",
   "metadata": {},
   "source": [
    "El modelo se puede cargar desde un archivo .json. Al ejecutar el siguiente cuadro de código podremos cargar uno desde el explorador de archivos."
   ]
  },
  {
   "cell_type": "code",
   "execution_count": 14,
   "metadata": {},
   "outputs": [
    {
     "name": "stdout",
     "output_type": "stream",
     "text": [
      "Ya hay un modelo cargado ¿Quieres borrarlo? [s/n]: s\n",
      "Se ha borrado el modelo que se había cargado\n"
     ]
    },
    {
     "data": {
      "application/vnd.jupyter.widget-view+json": {
       "model_id": "cec8dcfd41864b68936221a3d2061159",
       "version_major": 2,
       "version_minor": 0
      },
      "text/plain": [
       "FileUpload(value={}, accept='.h5', description='Upload')"
      ]
     },
     "metadata": {},
     "output_type": "display_data"
    },
    {
     "name": "stdout",
     "output_type": "stream",
     "text": [
      "Modelo cargado correctamente\n",
      "Ejecuta el siguiente cuadro de código para verlo...\n",
      "Modelo cargado correctamente\n",
      "Ejecuta el siguiente cuadro de código para verlo...\n"
     ]
    }
   ],
   "source": [
    "from ipywidgets import FileUpload, Output\n",
    "from tensorflow.keras import Model, models\n",
    "import json\n",
    "import os\n",
    "from io import StringIO\n",
    "\n",
    "if 'loaded_model' not in globals():\n",
    "    global loaded_model\n",
    "    loaded_model = None\n",
    "\n",
    "def mostrar_h5_upload():\n",
    "    h5_upload = FileUpload(accept= '.h5', \n",
    "    multiple=False)\n",
    "    display(h5_upload)\n",
    "    h5_upload.observe(handle_h5_upload, names='value')\n",
    "\n",
    "def handle_h5_upload(change):\n",
    "    *_, (_, f) = change['new'].items()\n",
    "    h5_content = f['content']\n",
    "    h5_uploaded_filepath = \"kerasModelUpload.h5\"\n",
    "    with open(h5_uploaded_filepath,\"w+b\") as h5_file:\n",
    "        h5_file.write(h5_content)\n",
    "    global loaded_model\n",
    "    loaded_model = models.load_model(h5_uploaded_filepath)\n",
    "    print(\"Modelo cargado correctamente\")\n",
    "    print(\"Ejecuta el siguiente cuadro de código para verlo...\")\n",
    "    os.remove(h5_uploaded_filepath)\n",
    "        \n",
    "if(loaded_model is not None):\n",
    "    answer = input(\"Ya hay un modelo cargado ¿Quieres borrarlo? [s/n]: \")\n",
    "    if answer == \"s\":\n",
    "        loaded_model = None\n",
    "        print(\"Se ha borrado el modelo que se había cargado\")\n",
    "        mostrar_h5_upload()\n",
    "    elif answer == \"n\":\n",
    "        print(\"No se ha borrado el modelo.\")\n",
    "    else:\n",
    "        print(\"No se ha borrado el modelo.\")\n",
    "else:\n",
    "    loaded_model=None\n",
    "    mostrar_h5_upload()"
   ]
  },
  {
   "cell_type": "code",
   "execution_count": 15,
   "metadata": {},
   "outputs": [
    {
     "name": "stdout",
     "output_type": "stream",
     "text": [
      "Model: \"sequential_63\"\n",
      "_________________________________________________________________\n",
      "Layer (type)                 Output Shape              Param #   \n",
      "=================================================================\n",
      "conv2d_188 (Conv2D)          (None, 126, 126, 4)       40        \n",
      "_________________________________________________________________\n",
      "max_pooling2d_188 (MaxPoolin (None, 42, 42, 4)         0         \n",
      "_________________________________________________________________\n",
      "conv2d_189 (Conv2D)          (None, 38, 38, 8)         808       \n",
      "_________________________________________________________________\n",
      "max_pooling2d_189 (MaxPoolin (None, 12, 12, 8)         0         \n",
      "_________________________________________________________________\n",
      "conv2d_190 (Conv2D)          (None, 6, 6, 16)          6288      \n",
      "_________________________________________________________________\n",
      "max_pooling2d_190 (MaxPoolin (None, 3, 3, 16)          0         \n",
      "_________________________________________________________________\n",
      "flatten_63 (Flatten)         (None, 144)               0         \n",
      "_________________________________________________________________\n",
      "dense_68 (Dense)             (None, 6)                 870       \n",
      "=================================================================\n",
      "Total params: 8,006\n",
      "Trainable params: 8,006\n",
      "Non-trainable params: 0\n",
      "_________________________________________________________________\n"
     ]
    }
   ],
   "source": [
    "loaded_model.summary()"
   ]
  },
  {
   "cell_type": "markdown",
   "metadata": {},
   "source": [
    "Tambien podemos cargar el modelo manualmente si sabemos el filepath del fichero .h5."
   ]
  },
  {
   "cell_type": "code",
   "execution_count": 6,
   "metadata": {},
   "outputs": [
    {
     "name": "stdout",
     "output_type": "stream",
     "text": [
      "Model: \"sequential_63\"\n",
      "_________________________________________________________________\n",
      "Layer (type)                 Output Shape              Param #   \n",
      "=================================================================\n",
      "conv2d_188 (Conv2D)          (None, 126, 126, 4)       40        \n",
      "_________________________________________________________________\n",
      "max_pooling2d_188 (MaxPoolin (None, 42, 42, 4)         0         \n",
      "_________________________________________________________________\n",
      "conv2d_189 (Conv2D)          (None, 38, 38, 8)         808       \n",
      "_________________________________________________________________\n",
      "max_pooling2d_189 (MaxPoolin (None, 12, 12, 8)         0         \n",
      "_________________________________________________________________\n",
      "conv2d_190 (Conv2D)          (None, 6, 6, 16)          6288      \n",
      "_________________________________________________________________\n",
      "max_pooling2d_190 (MaxPoolin (None, 3, 3, 16)          0         \n",
      "_________________________________________________________________\n",
      "flatten_63 (Flatten)         (None, 144)               0         \n",
      "_________________________________________________________________\n",
      "dense_68 (Dense)             (None, 6)                 870       \n",
      "=================================================================\n",
      "Total params: 8,006\n",
      "Trainable params: 8,006\n",
      "Non-trainable params: 0\n",
      "_________________________________________________________________\n"
     ]
    }
   ],
   "source": [
    "h5_filepath = \"carlosNet-aug-final.h5\" # Sustituir por el filepath del archivo a cargar\n",
    "loaded_model = models.load_model(h5_filepath)\n",
    "loaded_model.summary()"
   ]
  },
  {
   "cell_type": "markdown",
   "metadata": {},
   "source": [
    "## Probando el modelo"
   ]
  },
  {
   "cell_type": "markdown",
   "metadata": {},
   "source": [
    "### Cargar los datos"
   ]
  },
  {
   "cell_type": "code",
   "execution_count": 16,
   "metadata": {},
   "outputs": [
    {
     "name": "stdout",
     "output_type": "stream",
     "text": [
      "Found 14400 images belonging to 6 classes.\n",
      "Found 3600 images belonging to 6 classes.\n",
      "Found 3600 images belonging to 6 classes.\n"
     ]
    }
   ],
   "source": [
    "from tensorflow.keras.utils import to_categorical\n",
    "from tensorflow.keras.preprocessing.image import ImageDataGenerator\n",
    "\n",
    "simple_datagen = ImageDataGenerator(rescale = 1.0/255.)\n",
    "\n",
    "dataset_folder=\"dataset\"\n",
    "batch_size=30\n",
    "\n",
    "train_dir=f\"{dataset_folder}/train\"\n",
    "test_dir=f\"{dataset_folder}/test\"\n",
    "val_dir=f\"{dataset_folder}/val\"\n",
    "\n",
    "train_set = simple_datagen.flow_from_directory(train_dir,\n",
    "                  batch_size=batch_size,\n",
    "                  class_mode='categorical',\n",
    "                  target_size=(128, 128),\n",
    "                  color_mode=\"grayscale\")\n",
    "\n",
    "test_set = simple_datagen.flow_from_directory(test_dir,\n",
    "                  batch_size=batch_size,\n",
    "                  class_mode = 'categorical',\n",
    "                  target_size = (128, 128),\n",
    "                  color_mode=\"grayscale\")\n",
    "\n",
    "val_set = simple_datagen.flow_from_directory(val_dir,\n",
    "                  batch_size=batch_size,\n",
    "                  class_mode = 'categorical',\n",
    "                  target_size = (128, 128),\n",
    "                  color_mode=\"grayscale\")"
   ]
  },
  {
   "cell_type": "markdown",
   "metadata": {},
   "source": [
    "### Evaluar"
   ]
  },
  {
   "cell_type": "code",
   "execution_count": 18,
   "metadata": {},
   "outputs": [
    {
     "name": "stdout",
     "output_type": "stream",
     "text": [
      "120/120 [==============================] - 2s 18ms/step - loss: 0.0029 - accuracy: 0.9997\n",
      "Precisión para el conjunto de Prueba: 0.9997222423553467\n",
      "Pérdida para el conjunto de Prueba: 0.0029315564315766096\n"
     ]
    }
   ],
   "source": [
    "metrics_test = loaded_model.evaluate(\n",
    "             test_set,\n",
    "             batch_size=30,\n",
    "             steps= test_set.n // 30,\n",
    "             verbose=1,\n",
    "             return_dict=True)\n",
    "\n",
    "acc_test    = metrics_test['accuracy']\n",
    "loss_test   = metrics_test['loss']\n",
    "\n",
    "print(f\"Precisión para el conjunto de Prueba: {acc_test}\")\n",
    "print(f\"Pérdida para el conjunto de Prueba: {loss_test}\")"
   ]
  }
 ],
 "metadata": {
  "kernelspec": {
   "display_name": "Python 3",
   "language": "python",
   "name": "python3"
  },
  "language_info": {
   "codemirror_mode": {
    "name": "ipython",
    "version": 3
   },
   "file_extension": ".py",
   "mimetype": "text/x-python",
   "name": "python",
   "nbconvert_exporter": "python",
   "pygments_lexer": "ipython3",
   "version": "3.8.2"
  }
 },
 "nbformat": 4,
 "nbformat_minor": 4
}
