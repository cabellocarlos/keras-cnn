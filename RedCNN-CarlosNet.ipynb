{
 "cells": [
  {
   "cell_type": "markdown",
   "metadata": {
    "colab_type": "text",
    "id": "UGG6jeZNDcgV"
   },
   "source": [
    "# Red Convolucional CarlosNet"
   ]
  },
  {
   "cell_type": "markdown",
   "metadata": {
    "colab_type": "text",
    "id": "kgzIXWgRDcgY"
   },
   "source": [
    "## Descarga e importación del dataset"
   ]
  },
  {
   "cell_type": "markdown",
   "metadata": {
    "colab_type": "text",
    "id": "_ZReN1AHDcga"
   },
   "source": [
    "En este apartado hay un pequeño script que comprueba que el dataset no esté descargado o descomprimido para ahorrar tiempo en caso de que se esté probando otra de las redes incluidas en este proyecto.\n",
    "\n",
    "El dataset se encuentra en: https://zenodo.org/record/3902223"
   ]
  },
  {
   "cell_type": "code",
   "execution_count": 1,
   "metadata": {
    "colab": {
     "base_uri": "https://localhost:8080/",
     "height": 69
    },
    "colab_type": "code",
    "id": "sYNfzVr3Dcgb",
    "outputId": "d43661e0-43a5-4291-a3d5-6323fc3e1dab"
   },
   "outputs": [
    {
     "name": "stdout",
     "output_type": "stream",
     "text": [
      "El archivo 'dataset.zip' ya existe en la carpeta '/home/carlos/projects/keras-cnn' así que no se ha descargado.\n",
      "El dataset está descomprimido en '/home/carlos/projects/keras-cnn/dataset'\n"
     ]
    }
   ],
   "source": [
    "import os\n",
    "# Si se ejecuta desde google.colab: pip install wget\n",
    "import wget\n",
    "import zipfile\n",
    "import sys\n",
    "\n",
    "# Code from: https://stackoverflow.com/questions/58125279/python-wget-module-doesnt-show-progress-bar#answer-61346454        \n",
    "def bar_progress(current, total, width=80):\n",
    "  progress_message = \"Downloading: %d%% [%d / %d] bytes\" % (current / total * 100, current, total)\n",
    "  # Don't use print() as it will print in new line every time.\n",
    "  sys.stdout.write(\"\\r\" + progress_message)\n",
    "  sys.stdout.flush()\n",
    "\n",
    "dataset_zip_filename = \"dataset.zip\"\n",
    "dataset_folder = dataset_zip_filename.replace(\".zip\", \"\")\n",
    "dataset_zip_url = \"https://zenodo.org/record/3902223/files/dataset-single-hand-finger-count.zip\"\n",
    "if(not os.path.isfile(dataset_zip_filename)):\n",
    "    print(f\"Se descargará el dataset desde '{dataset_zip_url}'\")\n",
    "    #command_wget = f\"wget --no-check-certificate -O {dataset_zip_filename} {dataset_zip_url}\"\n",
    "    wget.download(dataset_zip_url,dataset_zip_filename, bar=bar_progress)\n",
    "    #command_wget_res = os.system(command_wget)\n",
    "    if(os.path.isfile(dataset_zip_filename) and not os.path.exists(dataset_folder)):\n",
    "        print(f\"Dataset descargado con éxito en '{os.getcwd()}/{dataset_folder}'\")\n",
    "        zip_ref = zipfile.ZipFile(dataset_zip_filename, 'r')\n",
    "        zip_ref.extractall(dataset_folder)\n",
    "        zip_ref.close()\n",
    "        print(f\"El dataset se ha descomprimido en '{os.getcwd()}/{dataset_folder}'\")\n",
    "    \n",
    "else:\n",
    "    print(f\"El archivo '{dataset_zip_filename}' ya existe en la carpeta '{os.getcwd()}' así que no se ha descargado.\")\n",
    "    if(not os.path.exists(dataset_folder)):\n",
    "        print(f\"El archivo {dataset_zip_filename} no parece haber sido descomprimido, se procede a descomprimir.\")\n",
    "        zip_ref = zipfile.ZipFile(dataset_zip_filename, 'r')\n",
    "        zip_ref.extractall(dataset_folder)\n",
    "        zip_ref.close()\n",
    "        print(f\"El archivo {dataset_zip_filename} se ha descromprimido con éxito en '{os.getcwd()}/{dataset_folder}'\")\n",
    "    else:\n",
    "        print(f\"El dataset está descomprimido en '{os.getcwd()}/{dataset_folder}'\")"
   ]
  },
  {
   "cell_type": "markdown",
   "metadata": {
    "colab_type": "text",
    "id": "Wqat0C43Dcgr"
   },
   "source": [
    "### Importación de los subonjuntos del dataset"
   ]
  },
  {
   "cell_type": "markdown",
   "metadata": {
    "colab_type": "text",
    "id": "tKDEqX0vDcg1"
   },
   "source": [
    "Se importan cada uno de los subconjuntos en los que se divide el dataset.\n",
    "Los valores de los canales de las imágenes pasan a ser del rango [0,255] a [0.0,1.0]. A su vez, reducimos el número de canales de color a 1 solo, dado que para este conjunto de datos las imágenes están en escala de grises y no es relevante tener más de un canal de color para representarlas."
   ]
  },
  {
   "cell_type": "markdown",
   "metadata": {
    "colab_type": "text",
    "id": "ATkd1X4dDcgs"
   },
   "source": [
    "Se establece en 30 el tamaño de los lotes de entrenamiento y en base a esto el número de pasos por época y validación."
   ]
  },
  {
   "cell_type": "code",
   "execution_count": 6,
   "metadata": {
    "colab": {
     "base_uri": "https://localhost:8080/",
     "height": 69
    },
    "colab_type": "code",
    "id": "YyXbfcRZDcg3",
    "outputId": "a40f8001-8559-4381-a092-cc12fde69183"
   },
   "outputs": [
    {
     "name": "stdout",
     "output_type": "stream",
     "text": [
      "Found 14400 images belonging to 6 classes.\n",
      "Found 3600 images belonging to 6 classes.\n",
      "Found 3600 images belonging to 6 classes.\n"
     ]
    }
   ],
   "source": [
    "from tensorflow.keras.utils import to_categorical\n",
    "from tensorflow.keras.preprocessing.image import ImageDataGenerator\n",
    "\n",
    "batch_size = 30\n",
    "simple_datagen = ImageDataGenerator(rescale = 1.0/255.)\n",
    "\n",
    "train_dir=f\"{dataset_folder}/train\"\n",
    "test_dir=f\"{dataset_folder}/test\"\n",
    "val_dir=f\"{dataset_folder}/val\"\n",
    "\n",
    "train_set = simple_datagen.flow_from_directory(train_dir,\n",
    "                  batch_size=batch_size,\n",
    "                  class_mode='categorical',\n",
    "                  target_size=(128, 128),\n",
    "                  color_mode=\"grayscale\")\n",
    "\n",
    "test_set = simple_datagen.flow_from_directory(test_dir,\n",
    "                  batch_size=batch_size,\n",
    "                  class_mode = 'categorical',\n",
    "                  target_size = (128, 128),\n",
    "                  color_mode=\"grayscale\")\n",
    "\n",
    "val_set = simple_datagen.flow_from_directory(val_dir,\n",
    "                  batch_size=batch_size,\n",
    "                  class_mode = 'categorical',\n",
    "                  target_size = (128, 128),\n",
    "                  color_mode=\"grayscale\")"
   ]
  },
  {
   "cell_type": "code",
   "execution_count": 7,
   "metadata": {
    "colab": {
     "base_uri": "https://localhost:8080/",
     "height": 34
    },
    "colab_type": "code",
    "id": "ydJMD7MIDcgu",
    "outputId": "1117a990-9ae2-4132-c4ea-8c7bbdcb7616"
   },
   "outputs": [
    {
     "name": "stdout",
     "output_type": "stream",
     "text": [
      "Pasos por época: 480    Pasos de validación: 120\n"
     ]
    }
   ],
   "source": [
    "steps_per_epoch = train_set.n // batch_size\n",
    "validation_steps = val_set.n // batch_size\n",
    "print(\"Pasos por época: \" + str(steps_per_epoch) + \"    Pasos de validación: \" + str(validation_steps))"
   ]
  },
  {
   "cell_type": "markdown",
   "metadata": {
    "colab_type": "text",
    "id": "qxLNKY1QDcg9"
   },
   "source": [
    "## CarlosNet (Sin data augmentation)"
   ]
  },
  {
   "cell_type": "markdown",
   "metadata": {
    "colab_type": "text",
    "id": "Qhck0AJGDcg-"
   },
   "source": [
    "### Estructura de la red"
   ]
  },
  {
   "cell_type": "markdown",
   "metadata": {
    "colab_type": "text",
    "id": "anVsYva2DchA"
   },
   "source": [
    "El diseño de la arquitectura de esta red se ha enfocado en intentar diseñar una red lo más sencilla y con el menor número de parámetros posibles que permitiese un rendimiento óptimo para el dataset que se ha usado en este trabajo."
   ]
  },
  {
   "cell_type": "code",
   "execution_count": 25,
   "metadata": {
    "colab": {
     "base_uri": "https://localhost:8080/",
     "height": 434
    },
    "colab_type": "code",
    "id": "cZQu4QQBDchB",
    "outputId": "fab98f4d-a2b9-47ef-ad67-f4f4a6ef2ec9"
   },
   "outputs": [
    {
     "name": "stdout",
     "output_type": "stream",
     "text": [
      "Model: \"sequential_4\"\n",
      "_________________________________________________________________\n",
      "Layer (type)                 Output Shape              Param #   \n",
      "=================================================================\n",
      "conv2d_12 (Conv2D)           (None, 126, 126, 4)       40        \n",
      "_________________________________________________________________\n",
      "max_pooling2d_12 (MaxPooling (None, 42, 42, 4)         0         \n",
      "_________________________________________________________________\n",
      "conv2d_13 (Conv2D)           (None, 38, 38, 8)         808       \n",
      "_________________________________________________________________\n",
      "max_pooling2d_13 (MaxPooling (None, 12, 12, 8)         0         \n",
      "_________________________________________________________________\n",
      "conv2d_14 (Conv2D)           (None, 6, 6, 16)          6288      \n",
      "_________________________________________________________________\n",
      "max_pooling2d_14 (MaxPooling (None, 3, 3, 16)          0         \n",
      "_________________________________________________________________\n",
      "flatten_4 (Flatten)          (None, 144)               0         \n",
      "_________________________________________________________________\n",
      "dense_4 (Dense)              (None, 6)                 870       \n",
      "=================================================================\n",
      "Total params: 8,006\n",
      "Trainable params: 8,006\n",
      "Non-trainable params: 0\n",
      "_________________________________________________________________\n"
     ]
    }
   ],
   "source": [
    "from tensorflow.keras import layers\n",
    "from tensorflow.keras import models\n",
    "\n",
    "model = models.Sequential()\n",
    "model.add(layers.Conv2D(4,(3,3),activation='relu',input_shape=(128,128,1)))\n",
    "model.add(layers.MaxPooling2D((3, 3)))\n",
    "model.add(layers.Conv2D(8,(5,5),activation='relu'))\n",
    "model.add(layers.MaxPooling2D((3, 3)))\n",
    "model.add(layers.Conv2D(16, (7,7), activation='relu'))\n",
    "model.add(layers.MaxPooling2D((2, 2)))\n",
    "\n",
    "model.add(layers.Flatten())\n",
    "model.add(layers.Dense(6, activation='softmax'))\n",
    "\n",
    "model.summary()"
   ]
  },
  {
   "cell_type": "code",
   "execution_count": 12,
   "metadata": {
    "colab": {},
    "colab_type": "code",
    "id": "-ezcydkdDchJ"
   },
   "outputs": [],
   "source": [
    "#### Introducir nombre del archivo que se va a guardar.\n",
    "nombre_archivo = 'carlosNet-final'\n",
    "# serializar el modelo a JSON\n",
    "carlosnet_json = model.to_json()\n",
    "with open(f\"{nombre_archivo}.json\", \"w\") as json_file:\n",
    "    json_file.write(carlosnet_json)"
   ]
  },
  {
   "cell_type": "markdown",
   "metadata": {
    "colab_type": "text",
    "id": "FjdvfQBcDchP"
   },
   "source": [
    "### Entrenamiento del modelo"
   ]
  },
  {
   "cell_type": "code",
   "execution_count": 26,
   "metadata": {
    "colab": {
     "base_uri": "https://localhost:8080/",
     "height": 364
    },
    "colab_type": "code",
    "id": "_ylX5EW_DchP",
    "outputId": "bf99dfbb-d69e-44c7-ddda-84abab7b181b"
   },
   "outputs": [
    {
     "name": "stdout",
     "output_type": "stream",
     "text": [
      "Epoch 1/100\n",
      "480/480 - 22s - loss: 1.0610 - accuracy: 0.5936 - val_loss: 0.0714 - val_accuracy: 0.9825\n",
      "Epoch 2/100\n",
      "480/480 - 21s - loss: 0.1013 - accuracy: 0.9799 - val_loss: 0.0382 - val_accuracy: 0.9928\n",
      "Epoch 3/100\n",
      "480/480 - 21s - loss: 0.0193 - accuracy: 0.9958 - val_loss: 0.0119 - val_accuracy: 0.9983\n",
      "Epoch 4/100\n",
      "480/480 - 21s - loss: 0.0096 - accuracy: 0.9986 - val_loss: 0.0088 - val_accuracy: 0.9989\n",
      "Epoch 5/100\n",
      "480/480 - 21s - loss: 0.0062 - accuracy: 0.9990 - val_loss: 0.0071 - val_accuracy: 0.9981\n",
      "Epoch 6/100\n",
      "480/480 - 22s - loss: 0.0041 - accuracy: 0.9997 - val_loss: 0.0030 - val_accuracy: 1.0000\n",
      "Epoch 7/100\n",
      "480/480 - 22s - loss: 0.0030 - accuracy: 0.9999 - val_loss: 0.0028 - val_accuracy: 0.9997\n",
      "Epoch 8/100\n",
      "480/480 - 21s - loss: 0.0024 - accuracy: 0.9999 - val_loss: 0.0017 - val_accuracy: 1.0000\n",
      "Epoch 9/100\n",
      "480/480 - 21s - loss: 0.0020 - accuracy: 0.9999 - val_loss: 0.0017 - val_accuracy: 1.0000\n",
      "Epoch 10/100\n",
      "480/480 - 21s - loss: 0.0015 - accuracy: 1.0000 - val_loss: 0.0018 - val_accuracy: 1.0000\n",
      "Epoch 11/100\n",
      "480/480 - 21s - loss: 0.0018 - accuracy: 0.9997 - val_loss: 0.0011 - val_accuracy: 1.0000\n",
      "Epoch 12/100\n",
      "480/480 - 21s - loss: 0.0011 - accuracy: 1.0000 - val_loss: 0.0011 - val_accuracy: 1.0000\n",
      "Epoch 13/100\n",
      "480/480 - 21s - loss: 9.9286e-04 - accuracy: 1.0000 - val_loss: 9.0879e-04 - val_accuracy: 1.0000\n",
      "Epoch 14/100\n",
      "480/480 - 21s - loss: 8.4916e-04 - accuracy: 1.0000 - val_loss: 8.2254e-04 - val_accuracy: 1.0000\n",
      "Epoch 15/100\n",
      "480/480 - 21s - loss: 7.9071e-04 - accuracy: 1.0000 - val_loss: 9.0223e-04 - val_accuracy: 1.0000\n",
      "Epoch 16/100\n",
      "480/480 - 21s - loss: 6.8557e-04 - accuracy: 1.0000 - val_loss: 6.1803e-04 - val_accuracy: 1.0000\n",
      "Epoch 17/100\n",
      "480/480 - 21s - loss: 6.3522e-04 - accuracy: 1.0000 - val_loss: 6.2909e-04 - val_accuracy: 1.0000\n",
      "Epoch 18/100\n",
      "480/480 - 21s - loss: 5.7125e-04 - accuracy: 1.0000 - val_loss: 6.2511e-04 - val_accuracy: 1.0000\n",
      "Epoch 19/100\n",
      "480/480 - 21s - loss: 5.0634e-04 - accuracy: 1.0000 - val_loss: 5.9408e-04 - val_accuracy: 1.0000\n",
      "Epoch 20/100\n",
      "480/480 - 21s - loss: 4.7478e-04 - accuracy: 1.0000 - val_loss: 5.9475e-04 - val_accuracy: 1.0000\n",
      "Epoch 21/100\n",
      "480/480 - 21s - loss: 4.6589e-04 - accuracy: 1.0000 - val_loss: 4.2758e-04 - val_accuracy: 1.0000\n",
      "Epoch 22/100\n",
      "480/480 - 21s - loss: 4.0421e-04 - accuracy: 1.0000 - val_loss: 4.4349e-04 - val_accuracy: 1.0000\n",
      "Epoch 23/100\n",
      "480/480 - 21s - loss: 3.9383e-04 - accuracy: 1.0000 - val_loss: 3.7705e-04 - val_accuracy: 1.0000\n",
      "Epoch 24/100\n",
      "480/480 - 21s - loss: 3.6759e-04 - accuracy: 1.0000 - val_loss: 3.5564e-04 - val_accuracy: 1.0000\n",
      "Epoch 25/100\n",
      "480/480 - 21s - loss: 3.3997e-04 - accuracy: 1.0000 - val_loss: 4.1724e-04 - val_accuracy: 1.0000\n",
      "Epoch 26/100\n",
      "480/480 - 21s - loss: 3.3628e-04 - accuracy: 1.0000 - val_loss: 3.2453e-04 - val_accuracy: 1.0000\n",
      "Epoch 27/100\n",
      "480/480 - 21s - loss: 3.0058e-04 - accuracy: 1.0000 - val_loss: 3.0712e-04 - val_accuracy: 1.0000\n",
      "Epoch 28/100\n",
      "480/480 - 21s - loss: 2.9519e-04 - accuracy: 1.0000 - val_loss: 3.0172e-04 - val_accuracy: 1.0000\n",
      "Epoch 29/100\n",
      "480/480 - 21s - loss: 2.8844e-04 - accuracy: 1.0000 - val_loss: 2.9525e-04 - val_accuracy: 1.0000\n",
      "Epoch 30/100\n",
      "480/480 - 21s - loss: 2.7002e-04 - accuracy: 1.0000 - val_loss: 2.7239e-04 - val_accuracy: 1.0000\n",
      "Epoch 31/100\n",
      "480/480 - 21s - loss: 2.5376e-04 - accuracy: 1.0000 - val_loss: 2.8451e-04 - val_accuracy: 1.0000\n",
      "Epoch 32/100\n",
      "480/480 - 21s - loss: 2.4667e-04 - accuracy: 1.0000 - val_loss: 2.9678e-04 - val_accuracy: 1.0000\n",
      "Epoch 33/100\n",
      "480/480 - 21s - loss: 2.3261e-04 - accuracy: 1.0000 - val_loss: 2.5126e-04 - val_accuracy: 1.0000\n",
      "Epoch 34/100\n",
      "480/480 - 21s - loss: 2.2608e-04 - accuracy: 1.0000 - val_loss: 2.5407e-04 - val_accuracy: 1.0000\n",
      "Epoch 35/100\n",
      "480/480 - 21s - loss: 2.1829e-04 - accuracy: 1.0000 - val_loss: 2.4101e-04 - val_accuracy: 1.0000\n",
      "Epoch 36/100\n",
      "480/480 - 21s - loss: 2.0727e-04 - accuracy: 1.0000 - val_loss: 2.3873e-04 - val_accuracy: 1.0000\n",
      "Epoch 37/100\n",
      "480/480 - 21s - loss: 1.9684e-04 - accuracy: 1.0000 - val_loss: 2.1668e-04 - val_accuracy: 1.0000\n",
      "Epoch 38/100\n",
      "480/480 - 21s - loss: 1.9418e-04 - accuracy: 1.0000 - val_loss: 2.0948e-04 - val_accuracy: 1.0000\n",
      "Epoch 39/100\n",
      "480/480 - 21s - loss: 1.8550e-04 - accuracy: 1.0000 - val_loss: 2.0489e-04 - val_accuracy: 1.0000\n",
      "Epoch 40/100\n",
      "480/480 - 21s - loss: 1.8121e-04 - accuracy: 1.0000 - val_loss: 1.8606e-04 - val_accuracy: 1.0000\n",
      "Epoch 41/100\n",
      "480/480 - 21s - loss: 1.7184e-04 - accuracy: 1.0000 - val_loss: 1.8552e-04 - val_accuracy: 1.0000\n",
      "Epoch 42/100\n",
      "480/480 - 22s - loss: 1.6571e-04 - accuracy: 1.0000 - val_loss: 1.8258e-04 - val_accuracy: 1.0000\n",
      "Epoch 43/100\n",
      "480/480 - 22s - loss: 1.6564e-04 - accuracy: 1.0000 - val_loss: 1.8491e-04 - val_accuracy: 1.0000\n",
      "Epoch 44/100\n",
      "480/480 - 21s - loss: 1.5562e-04 - accuracy: 1.0000 - val_loss: 1.9296e-04 - val_accuracy: 1.0000\n",
      "Epoch 45/100\n",
      "480/480 - 21s - loss: 1.5163e-04 - accuracy: 1.0000 - val_loss: 1.6542e-04 - val_accuracy: 1.0000\n",
      "Epoch 46/100\n",
      "480/480 - 21s - loss: 1.4749e-04 - accuracy: 1.0000 - val_loss: 1.7194e-04 - val_accuracy: 1.0000\n",
      "Epoch 47/100\n",
      "480/480 - 21s - loss: 1.4421e-04 - accuracy: 1.0000 - val_loss: 1.6717e-04 - val_accuracy: 1.0000\n",
      "Epoch 48/100\n",
      "480/480 - 21s - loss: 1.4066e-04 - accuracy: 1.0000 - val_loss: 1.6521e-04 - val_accuracy: 1.0000\n",
      "Epoch 49/100\n",
      "480/480 - 21s - loss: 1.3575e-04 - accuracy: 1.0000 - val_loss: 1.5213e-04 - val_accuracy: 1.0000\n",
      "Epoch 50/100\n",
      "480/480 - 21s - loss: 1.3421e-04 - accuracy: 1.0000 - val_loss: 1.6123e-04 - val_accuracy: 1.0000\n",
      "Epoch 51/100\n",
      "480/480 - 21s - loss: 1.2860e-04 - accuracy: 1.0000 - val_loss: 1.4536e-04 - val_accuracy: 1.0000\n",
      "Epoch 52/100\n",
      "480/480 - 21s - loss: 1.2546e-04 - accuracy: 1.0000 - val_loss: 1.4877e-04 - val_accuracy: 1.0000\n",
      "Epoch 53/100\n",
      "480/480 - 21s - loss: 1.2325e-04 - accuracy: 1.0000 - val_loss: 1.4202e-04 - val_accuracy: 1.0000\n",
      "Epoch 54/100\n",
      "480/480 - 21s - loss: 1.1781e-04 - accuracy: 1.0000 - val_loss: 1.4551e-04 - val_accuracy: 1.0000\n",
      "Epoch 55/100\n",
      "480/480 - 21s - loss: 1.1330e-04 - accuracy: 1.0000 - val_loss: 1.3735e-04 - val_accuracy: 1.0000\n",
      "Epoch 56/100\n",
      "480/480 - 21s - loss: 1.1362e-04 - accuracy: 1.0000 - val_loss: 1.3328e-04 - val_accuracy: 1.0000\n",
      "Epoch 57/100\n",
      "480/480 - 21s - loss: 1.1189e-04 - accuracy: 1.0000 - val_loss: 1.3730e-04 - val_accuracy: 1.0000\n",
      "Epoch 58/100\n",
      "480/480 - 21s - loss: 1.0970e-04 - accuracy: 1.0000 - val_loss: 1.3452e-04 - val_accuracy: 1.0000\n",
      "Epoch 59/100\n",
      "480/480 - 22s - loss: 1.0816e-04 - accuracy: 1.0000 - val_loss: 1.2255e-04 - val_accuracy: 1.0000\n",
      "Epoch 60/100\n",
      "480/480 - 22s - loss: 1.0396e-04 - accuracy: 1.0000 - val_loss: 1.2253e-04 - val_accuracy: 1.0000\n",
      "Epoch 61/100\n",
      "480/480 - 21s - loss: 1.0197e-04 - accuracy: 1.0000 - val_loss: 1.1983e-04 - val_accuracy: 1.0000\n",
      "Epoch 62/100\n",
      "480/480 - 21s - loss: 1.0031e-04 - accuracy: 1.0000 - val_loss: 1.2094e-04 - val_accuracy: 1.0000\n",
      "Epoch 63/100\n",
      "480/480 - 21s - loss: 9.7362e-05 - accuracy: 1.0000 - val_loss: 1.2096e-04 - val_accuracy: 1.0000\n",
      "Epoch 64/100\n",
      "480/480 - 21s - loss: 9.4010e-05 - accuracy: 1.0000 - val_loss: 1.2816e-04 - val_accuracy: 1.0000\n",
      "Epoch 65/100\n",
      "480/480 - 22s - loss: 9.2555e-05 - accuracy: 1.0000 - val_loss: 1.1782e-04 - val_accuracy: 1.0000\n",
      "Epoch 66/100\n",
      "480/480 - 21s - loss: 9.1511e-05 - accuracy: 1.0000 - val_loss: 1.2136e-04 - val_accuracy: 1.0000\n",
      "Epoch 67/100\n",
      "480/480 - 21s - loss: 8.8547e-05 - accuracy: 1.0000 - val_loss: 1.0759e-04 - val_accuracy: 1.0000\n",
      "Epoch 68/100\n",
      "480/480 - 21s - loss: 8.7151e-05 - accuracy: 1.0000 - val_loss: 1.0357e-04 - val_accuracy: 1.0000\n",
      "Epoch 69/100\n",
      "480/480 - 21s - loss: 8.7615e-05 - accuracy: 1.0000 - val_loss: 1.0249e-04 - val_accuracy: 1.0000\n",
      "Epoch 70/100\n",
      "480/480 - 21s - loss: 8.4065e-05 - accuracy: 1.0000 - val_loss: 1.1510e-04 - val_accuracy: 1.0000\n",
      "Epoch 71/100\n",
      "480/480 - 21s - loss: 8.3147e-05 - accuracy: 1.0000 - val_loss: 1.0033e-04 - val_accuracy: 1.0000\n",
      "Epoch 72/100\n",
      "480/480 - 22s - loss: 8.3159e-05 - accuracy: 1.0000 - val_loss: 1.0424e-04 - val_accuracy: 1.0000\n",
      "Epoch 73/100\n",
      "480/480 - 21s - loss: 7.9822e-05 - accuracy: 1.0000 - val_loss: 9.5445e-05 - val_accuracy: 1.0000\n",
      "Epoch 74/100\n",
      "480/480 - 21s - loss: 7.9407e-05 - accuracy: 1.0000 - val_loss: 9.5784e-05 - val_accuracy: 1.0000\n",
      "Epoch 75/100\n",
      "480/480 - 21s - loss: 7.8249e-05 - accuracy: 1.0000 - val_loss: 9.7480e-05 - val_accuracy: 1.0000\n"
     ]
    },
    {
     "name": "stdout",
     "output_type": "stream",
     "text": [
      "Epoch 76/100\n",
      "480/480 - 22s - loss: 7.6417e-05 - accuracy: 1.0000 - val_loss: 9.1944e-05 - val_accuracy: 1.0000\n",
      "Epoch 77/100\n",
      "480/480 - 22s - loss: 7.5097e-05 - accuracy: 1.0000 - val_loss: 9.1146e-05 - val_accuracy: 1.0000\n",
      "Epoch 78/100\n",
      "480/480 - 21s - loss: 7.4157e-05 - accuracy: 1.0000 - val_loss: 9.6316e-05 - val_accuracy: 1.0000\n",
      "Epoch 79/100\n",
      "480/480 - 21s - loss: 7.2801e-05 - accuracy: 1.0000 - val_loss: 8.8748e-05 - val_accuracy: 1.0000\n",
      "Epoch 80/100\n",
      "480/480 - 21s - loss: 7.1110e-05 - accuracy: 1.0000 - val_loss: 9.7713e-05 - val_accuracy: 1.0000\n",
      "Epoch 81/100\n",
      "480/480 - 21s - loss: 7.1145e-05 - accuracy: 1.0000 - val_loss: 8.7455e-05 - val_accuracy: 1.0000\n",
      "Epoch 82/100\n",
      "480/480 - 21s - loss: 7.0276e-05 - accuracy: 1.0000 - val_loss: 8.6756e-05 - val_accuracy: 1.0000\n",
      "Epoch 83/100\n",
      "480/480 - 21s - loss: 6.8761e-05 - accuracy: 1.0000 - val_loss: 8.6661e-05 - val_accuracy: 1.0000\n",
      "Epoch 84/100\n",
      "480/480 - 20s - loss: 6.7353e-05 - accuracy: 1.0000 - val_loss: 8.6422e-05 - val_accuracy: 1.0000\n",
      "Epoch 85/100\n",
      "480/480 - 21s - loss: 6.5453e-05 - accuracy: 1.0000 - val_loss: 9.1287e-05 - val_accuracy: 1.0000\n",
      "Epoch 86/100\n",
      "480/480 - 21s - loss: 6.6229e-05 - accuracy: 1.0000 - val_loss: 8.4857e-05 - val_accuracy: 1.0000\n",
      "Epoch 87/100\n",
      "480/480 - 21s - loss: 6.5158e-05 - accuracy: 1.0000 - val_loss: 7.9148e-05 - val_accuracy: 1.0000\n",
      "Epoch 88/100\n",
      "480/480 - 21s - loss: 6.3735e-05 - accuracy: 1.0000 - val_loss: 8.0134e-05 - val_accuracy: 1.0000\n",
      "Epoch 89/100\n",
      "480/480 - 21s - loss: 6.0806e-05 - accuracy: 1.0000 - val_loss: 7.7653e-05 - val_accuracy: 1.0000\n",
      "Epoch 90/100\n",
      "480/480 - 21s - loss: 6.1725e-05 - accuracy: 1.0000 - val_loss: 7.9864e-05 - val_accuracy: 1.0000\n",
      "Epoch 91/100\n",
      "480/480 - 21s - loss: 6.1298e-05 - accuracy: 1.0000 - val_loss: 7.7154e-05 - val_accuracy: 1.0000\n",
      "Epoch 92/100\n",
      "480/480 - 21s - loss: 5.9915e-05 - accuracy: 1.0000 - val_loss: 7.6831e-05 - val_accuracy: 1.0000\n",
      "Epoch 93/100\n",
      "480/480 - 21s - loss: 5.9629e-05 - accuracy: 1.0000 - val_loss: 7.7088e-05 - val_accuracy: 1.0000\n",
      "Epoch 94/100\n",
      "480/480 - 21s - loss: 5.8503e-05 - accuracy: 1.0000 - val_loss: 7.6731e-05 - val_accuracy: 1.0000\n",
      "Epoch 95/100\n",
      "480/480 - 21s - loss: 5.7898e-05 - accuracy: 1.0000 - val_loss: 7.3690e-05 - val_accuracy: 1.0000\n",
      "Epoch 96/100\n",
      "480/480 - 21s - loss: 5.6593e-05 - accuracy: 1.0000 - val_loss: 7.1790e-05 - val_accuracy: 1.0000\n",
      "Epoch 97/100\n",
      "480/480 - 21s - loss: 5.6072e-05 - accuracy: 1.0000 - val_loss: 7.5348e-05 - val_accuracy: 1.0000\n",
      "Epoch 98/100\n",
      "480/480 - 21s - loss: 5.5345e-05 - accuracy: 1.0000 - val_loss: 7.0684e-05 - val_accuracy: 1.0000\n",
      "Epoch 99/100\n",
      "480/480 - 21s - loss: 5.4868e-05 - accuracy: 1.0000 - val_loss: 6.8495e-05 - val_accuracy: 1.0000\n",
      "Epoch 100/100\n",
      "480/480 - 21s - loss: 5.3631e-05 - accuracy: 1.0000 - val_loss: 6.7438e-05 - val_accuracy: 1.0000\n"
     ]
    }
   ],
   "source": [
    "\n",
    "model.compile(loss='categorical_crossentropy',\n",
    "              optimizer='sgd',\n",
    "              metrics=['accuracy'])\n",
    "\n",
    "history = model.fit(\n",
    "             train_set,\n",
    "             steps_per_epoch= steps_per_epoch,\n",
    "             epochs=100,\n",
    "             validation_data=val_set,\n",
    "             validation_steps= validation_steps,\n",
    "             verbose=2)"
   ]
  },
  {
   "cell_type": "markdown",
   "metadata": {
    "colab_type": "text",
    "id": "2RFrA2tJDchZ"
   },
   "source": [
    "### Evaluación del rendimiento del modelo"
   ]
  },
  {
   "cell_type": "code",
   "execution_count": 27,
   "metadata": {
    "colab": {
     "base_uri": "https://localhost:8080/",
     "height": 401
    },
    "colab_type": "code",
    "id": "Fj8lT1ydDcha",
    "outputId": "b72bfae6-4378-4dfb-a978-a36ba87f0e08"
   },
   "outputs": [
    {
     "data": {
      "image/png": "[encoded data removed]",
      "text/plain": [
       "<Figure size 720x360 with 1 Axes>"
      ]
     },
     "metadata": {
      "needs_background": "light"
     },
     "output_type": "display_data"
    }
   ],
   "source": [
    "from matplotlib import rc\n",
    "import matplotlib.image as mpimg\n",
    "import matplotlib.pyplot as plt\n",
    "from numpy import arange\n",
    "\n",
    "acc      = history.history['accuracy']\n",
    "val_acc  = history.history['val_accuracy']\n",
    "loss     = history.history['loss']\n",
    "val_loss = history.history['val_loss']\n",
    "\n",
    "epochs   = range(1,len(acc)+1,1)\n",
    "\n",
    "font = {'size'   : 18}\n",
    "rc('font', **font)\n",
    "plt.figure(figsize=(10,5))\n",
    "#plt.xticks(epochs)\n",
    "plt.yticks(arange(0,max(max(loss),max(val_loss),1.)+.1,.1))\n",
    "plt.plot ( epochs, acc, '#1d199c', label='Precisión (entrenamiento)', linewidth=3, linestyle='--')\n",
    "plt.plot ( epochs, loss, '#19869c', label='Pérdida (entrenamiento)', linewidth=3, linestyle='--')\n",
    "plt.plot ( epochs, val_acc,  '#9c1931', label='Precisión (validación)', linewidth=3)\n",
    "plt.plot ( epochs, val_loss,  '#9c6e19', label='Pérdida (validación)', linewidth=3)\n",
    "\n",
    "plt.title ('Medidas de precisión y pérdida para los conjuntos \\n de Entrenamiento y Validación')\n",
    "plt.ylabel('Precisión / Pérdida')\n",
    "plt.xlabel('Nº de Épocas')\n",
    "\n",
    "plt.legend()\n",
    "plt.grid(b=None, which='major', axis='both', linestyle='--')"
   ]
  },
  {
   "cell_type": "markdown",
   "metadata": {
    "colab_type": "text",
    "id": "m4PHNp3mDchh"
   },
   "source": [
    "Ahora, se evalúa el modelo respecto al subconjunto de test. Esto sirve como validación final ya que son datos que el modelo no ha visto y que no han influido a la hora de tomar decisiones sobre los hiperparámetros de la red. Por ello, este conjunto se ha reservado para el final."
   ]
  },
  {
   "cell_type": "code",
   "execution_count": 28,
   "metadata": {
    "colab": {
     "base_uri": "https://localhost:8080/",
     "height": 69
    },
    "colab_type": "code",
    "id": "OOKtnVBkDchi",
    "outputId": "fcb1291b-da32-4307-d3eb-6b2ff553c79e"
   },
   "outputs": [
    {
     "name": "stdout",
     "output_type": "stream",
     "text": [
      "120/120 [==============================] - 2s 18ms/step - loss: 2.6619e-04 - accuracy: 1.0000\n",
      "Precisión para el conjunto de Prueba: 1.0\n",
      "Pérdida para el conjunto de Prueba: 0.0002661898033693433\n"
     ]
    }
   ],
   "source": [
    "metrics_test = model.evaluate(\n",
    "             test_set,\n",
    "             batch_size=30,\n",
    "             steps= test_set.n // batch_size,\n",
    "             verbose=1,\n",
    "             return_dict=True)\n",
    "\n",
    "acc_test    = metrics_test['accuracy']\n",
    "loss_test   = metrics_test['loss']\n",
    "\n",
    "print(f\"Precisión para el conjunto de Prueba: {acc_test}\")\n",
    "print(f\"Pérdida para el conjunto de Prueba: {loss_test}\")"
   ]
  },
  {
   "cell_type": "markdown",
   "metadata": {
    "colab_type": "text",
    "id": "j0xhM46fDchn"
   },
   "source": [
    "### Guardado del modelo\n",
    "Si lo deseamos, se puede guardar el modelo ya entrenado en fichero un fichero .h5 para ser importado y utilizado para hacer nuevas predicciones."
   ]
  },
  {
   "cell_type": "code",
   "execution_count": 11,
   "metadata": {
    "colab": {},
    "colab_type": "code",
    "id": "hGcFhPnwDcho"
   },
   "outputs": [],
   "source": [
    "#### Introducir nombre del archivo que se va a guardar.\n",
    "nombreArchivo = 'carlosNet-no-aug-final'\n",
    "\n",
    "model.save(str(nombreArchivo) + '.h5')"
   ]
  },
  {
   "cell_type": "markdown",
   "metadata": {
    "colab_type": "text",
    "id": "8I1-v5qFDcht"
   },
   "source": [
    "## CarlosNet (Con data augmentation)"
   ]
  },
  {
   "cell_type": "markdown",
   "metadata": {
    "colab_type": "text",
    "id": "fblXqb3hDchu"
   },
   "source": [
    "### Aumento de los subconjuntos del dataset"
   ]
  },
  {
   "cell_type": "markdown",
   "metadata": {
    "colab_type": "text",
    "id": "OcaUZKXsDchu"
   },
   "source": [
    "En esta ocasión, no solo importaremos el conjunto de datos sino que le aplicaremos combinaciones de transformaciones aleatorias como se describe en los parámetros de la clase ImageDataGenerator. Se aplicará una combinación de las transformaciones: Espejo vertical y/o horizontal, rotación, desplazamiento vertical y/o horizontal, ampliación y/ó reducción. Se han escogido estos valores para evitar en lo posible que la mano no se salga de los bordes de la imagen.\n",
    "\n",
    "Bien es cierto que para entrenar el modelo, solo haría falta hacer un aumento del subconjunto de entrenamiento, pues el objetivo es maximizar la precisión para los subconjuntos de validación y prueba tal y como se propocionan. Se hace este aumento para validación y prueba tan solo con propósitos de poder comparar el nivel de generalización que obtenemos de las redes al entrenar con y sin aumento.\n",
    "\n",
    "Dado que el conjunto de entrenamiento es muy homogéneo, puede ser útil hacer aumento para demostrar que en caso de que unas imágenes nuevas a predecir, que sean levemente distintas que las del dataset, también se predicen correctamente."
   ]
  },
  {
   "cell_type": "code",
   "execution_count": 12,
   "metadata": {
    "colab": {
     "base_uri": "https://localhost:8080/",
     "height": 86
    },
    "colab_type": "code",
    "id": "KkVxjkG3Dchw",
    "outputId": "62ca0bb8-6de7-4cf6-d404-bf3eef30f7aa"
   },
   "outputs": [
    {
     "name": "stdout",
     "output_type": "stream",
     "text": [
      "Found 14400 images belonging to 6 classes.\n",
      "Found 3600 images belonging to 6 classes.\n",
      "Found 3600 images belonging to 6 classes.\n",
      "Pasos por época: 480    Pasos de validación: 120\n"
     ]
    }
   ],
   "source": [
    "from tensorflow.keras.utils import to_categorical\n",
    "from tensorflow.keras.preprocessing.image import ImageDataGenerator\n",
    "\n",
    "augmented_datagen = ImageDataGenerator(rescale = 1.0/255.,\n",
    "                                      width_shift_range=0.2,\n",
    "                                      height_shift_range=0.2,\n",
    "                                      zoom_range=0.2,\n",
    "                                      horizontal_flip=True,\n",
    "                                      vertical_flip=True,\n",
    "                                      rotation_range=90)\n",
    "\n",
    "train_dir=f\"{dataset_folder}/train\"\n",
    "test_dir=f\"{dataset_folder}/test\"\n",
    "val_dir=f\"{dataset_folder}/val\"\n",
    "\n",
    "aug_train_set = augmented_datagen.flow_from_directory(train_dir,\n",
    "                  batch_size=30,\n",
    "                  class_mode='categorical',\n",
    "                  target_size=(128, 128),\n",
    "                  color_mode=\"grayscale\")\n",
    "\n",
    "aug_test_set = augmented_datagen.flow_from_directory(test_dir,\n",
    "                  batch_size=30,\n",
    "                  class_mode = 'categorical',\n",
    "                  target_size = (128, 128),\n",
    "                  color_mode=\"grayscale\")\n",
    "\n",
    "aug_val_set = augmented_datagen.flow_from_directory(val_dir,\n",
    "                  batch_size=30,\n",
    "                  class_mode = 'categorical',\n",
    "                  target_size = (128, 128),\n",
    "                  color_mode=\"grayscale\")\n",
    "\n",
    "batch_size = 30\n",
    "aug_steps_per_epoch = aug_train_set.n // batch_size\n",
    "aug_validation_steps = aug_val_set.n // batch_size\n",
    "print(\"Pasos por época: \" + str(aug_steps_per_epoch) + \"    Pasos de validación: \" + str(aug_validation_steps))"
   ]
  },
  {
   "cell_type": "markdown",
   "metadata": {
    "colab_type": "text",
    "id": "Y6-gw6LhDch3"
   },
   "source": [
    "### Estructura de la red"
   ]
  },
  {
   "cell_type": "code",
   "execution_count": 21,
   "metadata": {
    "colab": {
     "base_uri": "https://localhost:8080/",
     "height": 434
    },
    "colab_type": "code",
    "id": "fxPSVCWzDch3",
    "outputId": "da623751-6704-4c0d-da25-7fbef0b0af48"
   },
   "outputs": [
    {
     "name": "stdout",
     "output_type": "stream",
     "text": [
      "Model: \"sequential_3\"\n",
      "_________________________________________________________________\n",
      "Layer (type)                 Output Shape              Param #   \n",
      "=================================================================\n",
      "conv2d_9 (Conv2D)            (None, 126, 126, 4)       40        \n",
      "_________________________________________________________________\n",
      "max_pooling2d_9 (MaxPooling2 (None, 42, 42, 4)         0         \n",
      "_________________________________________________________________\n",
      "conv2d_10 (Conv2D)           (None, 38, 38, 8)         808       \n",
      "_________________________________________________________________\n",
      "max_pooling2d_10 (MaxPooling (None, 12, 12, 8)         0         \n",
      "_________________________________________________________________\n",
      "conv2d_11 (Conv2D)           (None, 6, 6, 16)          6288      \n",
      "_________________________________________________________________\n",
      "max_pooling2d_11 (MaxPooling (None, 3, 3, 16)          0         \n",
      "_________________________________________________________________\n",
      "flatten_3 (Flatten)          (None, 144)               0         \n",
      "_________________________________________________________________\n",
      "dense_3 (Dense)              (None, 6)                 870       \n",
      "=================================================================\n",
      "Total params: 8,006\n",
      "Trainable params: 8,006\n",
      "Non-trainable params: 0\n",
      "_________________________________________________________________\n"
     ]
    }
   ],
   "source": [
    "from tensorflow.keras import layers\n",
    "from tensorflow.keras import models\n",
    "\n",
    "model2 = models.Sequential()\n",
    "model2.add(layers.Conv2D(4,(3,3),activation='relu',input_shape=(128,128,1)))\n",
    "model2.add(layers.MaxPooling2D((3, 3)))\n",
    "model2.add(layers.Conv2D(8,(5,5),activation='relu'))\n",
    "model2.add(layers.MaxPooling2D((3, 3)))\n",
    "model2.add(layers.Conv2D(16, (7,7), activation='relu'))\n",
    "model2.add(layers.MaxPooling2D((2, 2)))\n",
    "\n",
    "model2.add(layers.Flatten())\n",
    "model2.add(layers.Dense(6, activation='softmax'))\n",
    "\n",
    "model2.summary()"
   ]
  },
  {
   "cell_type": "markdown",
   "metadata": {
    "colab_type": "text",
    "id": "P1-_CKN3Dch8"
   },
   "source": [
    "### Entrenamiento del modelo"
   ]
  },
  {
   "cell_type": "markdown",
   "metadata": {
    "colab_type": "text",
    "id": "HQhEn2f6Dch9"
   },
   "source": [
    "Dado que ahora el subconjunto de entrenamiento tiene mucha más variabilidad (ha sido aumentado), se necesitan más épocas para que el modelo logre conseguir una precisión cercana a la obtenida para el subconjunto de entrenamiento como se proporciona.\n",
    "\n",
    "Se ha usado un optimizador SGD con momento de nesterov que en nuestros experimentos ha demostrado acelerar bastante la convergencia hacia la red con mayor precisión.\n",
    "\n",
    "Recordemos que el objetivo del modelo es predecir lo mejor posible para los subconjuntos de prueba y validación, tal y como están, sin aumento. Es por eso que comparamos la precisión la versión de los subconjuntos sin aumentos.\n",
    "\n",
    "Posteriormente, a modo de orientación, también evaluaremos como sería el rendimiento si se aplicase aumento. Esto sería una forma de estimar que tan bien generalizan los modelos."
   ]
  },
  {
   "cell_type": "code",
   "execution_count": 22,
   "metadata": {
    "colab": {
     "base_uri": "https://localhost:8080/",
     "height": 1000
    },
    "colab_type": "code",
    "id": "N8eUVHYFDch-",
    "outputId": "a247fbe4-e78b-444f-d740-290cf4404a42"
   },
   "outputs": [
    {
     "name": "stdout",
     "output_type": "stream",
     "text": [
      "Epoch 1/30\n",
      "480/480 - 30s - loss: 1.5521 - accuracy: 0.3044 - val_loss: 1.1946 - val_accuracy: 0.3822\n",
      "Epoch 2/30\n",
      "480/480 - 29s - loss: 1.0154 - accuracy: 0.5481 - val_loss: 0.5383 - val_accuracy: 0.7869\n",
      "Epoch 3/30\n",
      "480/480 - 29s - loss: 0.6037 - accuracy: 0.7508 - val_loss: 0.3547 - val_accuracy: 0.8764\n",
      "Epoch 4/30\n",
      "480/480 - 29s - loss: 0.4299 - accuracy: 0.8303 - val_loss: 0.2220 - val_accuracy: 0.9158\n",
      "Epoch 5/30\n",
      "480/480 - 29s - loss: 0.3489 - accuracy: 0.8701 - val_loss: 0.2209 - val_accuracy: 0.9128\n",
      "Epoch 6/30\n",
      "480/480 - 29s - loss: 0.3005 - accuracy: 0.8907 - val_loss: 0.1345 - val_accuracy: 0.9522\n",
      "Epoch 7/30\n",
      "480/480 - 29s - loss: 0.2865 - accuracy: 0.8974 - val_loss: 0.0940 - val_accuracy: 0.9731\n",
      "Epoch 8/30\n",
      "480/480 - 30s - loss: 0.2680 - accuracy: 0.9060 - val_loss: 0.3159 - val_accuracy: 0.8847\n",
      "Epoch 9/30\n",
      "480/480 - 29s - loss: 0.2410 - accuracy: 0.9174 - val_loss: 0.0684 - val_accuracy: 0.9761\n",
      "Epoch 10/30\n",
      "480/480 - 29s - loss: 0.2269 - accuracy: 0.9216 - val_loss: 0.1688 - val_accuracy: 0.9283\n",
      "Epoch 11/30\n",
      "480/480 - 29s - loss: 0.2050 - accuracy: 0.9260 - val_loss: 0.3740 - val_accuracy: 0.8889\n",
      "Epoch 12/30\n",
      "480/480 - 29s - loss: 0.2192 - accuracy: 0.9256 - val_loss: 0.0650 - val_accuracy: 0.9800\n",
      "Epoch 13/30\n",
      "480/480 - 29s - loss: 0.1988 - accuracy: 0.9331 - val_loss: 0.0526 - val_accuracy: 0.9814\n",
      "Epoch 14/30\n",
      "480/480 - 29s - loss: 0.1867 - accuracy: 0.9376 - val_loss: 0.0608 - val_accuracy: 0.9786\n",
      "Epoch 15/30\n",
      "480/480 - 29s - loss: 0.1889 - accuracy: 0.9337 - val_loss: 0.0469 - val_accuracy: 0.9844\n",
      "Epoch 16/30\n",
      "480/480 - 29s - loss: 0.1827 - accuracy: 0.9381 - val_loss: 0.1693 - val_accuracy: 0.9364\n",
      "Epoch 17/30\n",
      "480/480 - 29s - loss: 0.1654 - accuracy: 0.9434 - val_loss: 0.1458 - val_accuracy: 0.9539\n",
      "Epoch 18/30\n",
      "480/480 - 29s - loss: 0.1738 - accuracy: 0.9430 - val_loss: 0.0752 - val_accuracy: 0.9725\n",
      "Epoch 19/30\n",
      "480/480 - 29s - loss: 0.1683 - accuracy: 0.9441 - val_loss: 0.0924 - val_accuracy: 0.9694\n",
      "Epoch 20/30\n",
      "480/480 - 29s - loss: 0.1633 - accuracy: 0.9472 - val_loss: 0.1160 - val_accuracy: 0.9603\n",
      "Epoch 21/30\n",
      "480/480 - 29s - loss: 0.1595 - accuracy: 0.9483 - val_loss: 0.0740 - val_accuracy: 0.9747\n",
      "Epoch 22/30\n",
      "480/480 - 29s - loss: 0.1427 - accuracy: 0.9527 - val_loss: 0.0738 - val_accuracy: 0.9739\n",
      "Epoch 23/30\n",
      "480/480 - 30s - loss: 0.1607 - accuracy: 0.9467 - val_loss: 0.0575 - val_accuracy: 0.9803\n",
      "Epoch 24/30\n",
      "480/480 - 30s - loss: 0.1528 - accuracy: 0.9481 - val_loss: 0.1950 - val_accuracy: 0.9344\n",
      "Epoch 25/30\n",
      "480/480 - 29s - loss: 0.1399 - accuracy: 0.9547 - val_loss: 0.0479 - val_accuracy: 0.9850\n",
      "Epoch 26/30\n",
      "480/480 - 30s - loss: 0.1439 - accuracy: 0.9528 - val_loss: 0.0974 - val_accuracy: 0.9661\n",
      "Epoch 27/30\n",
      "480/480 - 29s - loss: 0.1352 - accuracy: 0.9542 - val_loss: 0.0634 - val_accuracy: 0.9783\n",
      "Epoch 28/30\n",
      "480/480 - 29s - loss: 0.1223 - accuracy: 0.9601 - val_loss: 0.2236 - val_accuracy: 0.9378\n",
      "Epoch 29/30\n",
      "480/480 - 29s - loss: 0.1388 - accuracy: 0.9538 - val_loss: 0.0546 - val_accuracy: 0.9803\n",
      "Epoch 30/30\n",
      "480/480 - 29s - loss: 0.1272 - accuracy: 0.9587 - val_loss: 0.1099 - val_accuracy: 0.9586\n"
     ]
    }
   ],
   "source": [
    "from tensorflow.keras.optimizers import SGD\n",
    "\n",
    "sgd_optimizer= SGD(momentum=0.8,nesterov=True)\n",
    "\n",
    "model2.compile(loss='categorical_crossentropy',\n",
    "              optimizer=sgd_optimizer,\n",
    "              metrics=['accuracy'])\n",
    "\n",
    "history2 = model2.fit(\n",
    "             aug_train_set,\n",
    "             steps_per_epoch= aug_steps_per_epoch,\n",
    "             epochs=30,\n",
    "             validation_data=val_set,\n",
    "             validation_steps= aug_validation_steps,\n",
    "             verbose=2)"
   ]
  },
  {
   "cell_type": "markdown",
   "metadata": {
    "colab_type": "text",
    "id": "vQCLSSiBDciD"
   },
   "source": [
    "### Guardado del modelo (con data augmentation)\n",
    "Si lo deseamos, se puede guardar el modelo ya entrenado en fichero un fichero .h5 para ser importado y utilizado para hacer nuevas predicciones."
   ]
  },
  {
   "cell_type": "code",
   "execution_count": 31,
   "metadata": {
    "colab": {},
    "colab_type": "code",
    "id": "lQydXXa_DciE"
   },
   "outputs": [],
   "source": [
    "#### Introducir nombre del archivo que se va a guardar.\n",
    "nombreArchivo = 'carlosNet-aug-final'\n",
    "\n",
    "model2.save(str(nombreArchivo) + '.h5')"
   ]
  },
  {
   "cell_type": "markdown",
   "metadata": {
    "colab_type": "text",
    "id": "KSJIM9CEDciI"
   },
   "source": [
    "### Evaluación del rendimiento del modelo"
   ]
  },
  {
   "cell_type": "code",
   "execution_count": 29,
   "metadata": {
    "colab": {
     "base_uri": "https://localhost:8080/",
     "height": 509
    },
    "colab_type": "code",
    "id": "Uqk4g1rkDciL",
    "outputId": "5cf6ad6d-9f3c-4707-85f9-d3372812105e"
   },
   "outputs": [
    {
     "data": {
      "image/png": "[encoded data removed]",
      "text/plain": [
       "<Figure size 720x504 with 1 Axes>"
      ]
     },
     "metadata": {
      "needs_background": "light"
     },
     "output_type": "display_data"
    }
   ],
   "source": [
    "from matplotlib import rc\n",
    "import matplotlib.image as mpimg\n",
    "import matplotlib.pyplot as plt\n",
    "from numpy import arange\n",
    "\n",
    "acc      = history2.history['accuracy']\n",
    "val_acc  = history2.history['val_accuracy']\n",
    "loss     = history2.history['loss']\n",
    "val_loss = history2.history['val_loss']\n",
    "\n",
    "epochs   = range(1,len(acc)+1,1)\n",
    "\n",
    "font = {'size'   : 18}\n",
    "rc('font', **font)\n",
    "plt.figure(figsize=(10,7))\n",
    "#plt.xticks(epochs)\n",
    "plt.yticks(arange(0,max(max(loss),max(val_loss),1.)+.1,.1))\n",
    "plt.plot ( epochs, acc, '#1d199c', label='Precisión (entrenamiento)', linewidth=3, linestyle='--')\n",
    "plt.plot ( epochs, loss, '#19869c', label='Pérdida (entrenamiento)', linewidth=3, linestyle='--')\n",
    "plt.plot ( epochs, val_acc,  '#9c1931', label='Precisión (validación)', linewidth=3)\n",
    "plt.plot ( epochs, val_loss,  '#9c6e19', label='Pérdida (validación)', linewidth=3)\n",
    "\n",
    "plt.title ('Medidas de precisión y pérdida para los conjuntos \\n de Entrenamiento y Validación')\n",
    "plt.ylabel('Precisión / Pérdida')\n",
    "plt.xlabel('Nº de Épocas')\n",
    "\n",
    "plt.legend()\n",
    "plt.grid(b=None, which='major', axis='both', linestyle='--')"
   ]
  },
  {
   "cell_type": "markdown",
   "metadata": {
    "colab_type": "text",
    "id": "0hclGASUDciS"
   },
   "source": [
    "#### Evaluación del rendimiento para el subconjunto de Prueba (Sin data agmentation)"
   ]
  },
  {
   "cell_type": "code",
   "execution_count": 18,
   "metadata": {
    "colab": {
     "base_uri": "https://localhost:8080/",
     "height": 34
    },
    "colab_type": "code",
    "id": "LJjLjs9DDciS",
    "outputId": "6b02e1e1-efa8-4462-f841-2412d51a397e"
   },
   "outputs": [
    {
     "name": "stdout",
     "output_type": "stream",
     "text": [
      "120/120 [==============================] - 2s 18ms/step - loss: 0.0647 - accuracy: 0.9767\n"
     ]
    }
   ],
   "source": [
    "##### Evaluacion del modelo (Sin data agmentation).\n",
    "metrics_test2 = model2.evaluate(\n",
    "             test_set,\n",
    "             batch_size=30,\n",
    "             steps= test_set.n // batch_size,\n",
    "             verbose=1,\n",
    "             return_dict=True)"
   ]
  },
  {
   "cell_type": "markdown",
   "metadata": {
    "colab_type": "text",
    "id": "y7J0qY4rDciY"
   },
   "source": [
    "### Comparación del nivel de generalización de los 2 modelos entrenados\n",
    "La idea es evaluar el rendimiento de los dos modelos que se han entrenado: Con data augmentation y sin data augmentation.\n",
    "\n",
    "La comparación la haremos evaluando esta vez respecto al mismo conjunto de prueba pero esta vez aumentado."
   ]
  },
  {
   "cell_type": "markdown",
   "metadata": {
    "colab_type": "text",
    "id": "8I4DuimVDciY"
   },
   "source": [
    "#### Generalización del modelo entrenado con data augmentation"
   ]
  },
  {
   "cell_type": "code",
   "execution_count": 19,
   "metadata": {
    "colab": {
     "base_uri": "https://localhost:8080/",
     "height": 34
    },
    "colab_type": "code",
    "id": "wiabxU3hDciZ",
    "outputId": "a0569b8b-b76c-4c54-c5dc-ece5aa939bc6"
   },
   "outputs": [
    {
     "name": "stdout",
     "output_type": "stream",
     "text": [
      "120/120 [==============================] - 5s 45ms/step - loss: 0.1616 - accuracy: 0.9444\n"
     ]
    }
   ],
   "source": [
    "##### Evaluacion del modelo.\n",
    "metrics_test_aug2 = model2.evaluate(\n",
    "             aug_test_set,\n",
    "             batch_size=30,\n",
    "             steps= aug_test_set.n // batch_size,\n",
    "             verbose=1,\n",
    "             return_dict=True)"
   ]
  },
  {
   "cell_type": "markdown",
   "metadata": {
    "colab_type": "text",
    "id": "A1qpf_iZDcif"
   },
   "source": [
    "#### Generalización del modelo entrenado sin data augmentation"
   ]
  },
  {
   "cell_type": "code",
   "execution_count": 20,
   "metadata": {
    "colab": {
     "base_uri": "https://localhost:8080/",
     "height": 34
    },
    "colab_type": "code",
    "id": "LG3xJf-tDcif",
    "outputId": "2fdc451b-b211-4370-a5c3-20bfd5bd3e93"
   },
   "outputs": [
    {
     "name": "stdout",
     "output_type": "stream",
     "text": [
      "120/120 [==============================] - 5s 45ms/step - loss: 14.4445 - accuracy: 0.1914\n"
     ]
    }
   ],
   "source": [
    "metrics_test_aug = model.evaluate(\n",
    "             aug_test_set,\n",
    "             batch_size=30,\n",
    "             steps= aug_test_set.n // batch_size,\n",
    "             verbose=1,\n",
    "             return_dict=True)"
   ]
  },
  {
   "cell_type": "markdown",
   "metadata": {
    "colab_type": "text",
    "id": "KBZTtEXJDcik"
   },
   "source": [
    "## Conclusión"
   ]
  },
  {
   "cell_type": "markdown",
   "metadata": {
    "colab_type": "text",
    "id": "s67B_fahDcik"
   },
   "source": [
    "Hemos observado que al entrenar la red sin data augmentation, se obtiene un rendimiento excelente al compararlo con los subconjuntos de validacón y prueba. Sin embargo, la convergencia es increiblemente rápida lo que puede ser un indicador de que la arquitectura del modelo puede asumir más conocimiento del que se proporciona en el dataset.\n",
    "\n",
    "Vemos además como, al entrenar una red con la misma arquitectura con data augmentation, obtenemos resultados excelentes tanto para los conjuntos de prueba y validacion; aumentados y sin aumentar. Podríamos decir que en este caso se generaliza mucho mejor.\n",
    "\n",
    "No podemos decir lo mismo del modelo que se ha entrenado sin data augmentation, pues se obtiene un rendimiento pésimo al evaluar el rendimiento respecto al subconjunto test con data augmentation."
   ]
  },
  {
   "cell_type": "code",
   "execution_count": null,
   "metadata": {
    "colab": {},
    "colab_type": "code",
    "id": "4aCWGef-Dcik"
   },
   "outputs": [],
   "source": []
  },
  {
   "cell_type": "code",
   "execution_count": null,
   "metadata": {
    "colab": {},
    "colab_type": "code",
    "id": "mi7e6oHlDcip"
   },
   "outputs": [],
   "source": []
  },
  {
   "cell_type": "code",
   "execution_count": null,
   "metadata": {
    "colab": {},
    "colab_type": "code",
    "id": "gh4Ky-rmDcit"
   },
   "outputs": [],
   "source": []
  }
 ],
 "metadata": {
  "accelerator": "GPU",
  "colab": {
   "name": "RedCNN-CarlosNet.ipynb",
   "provenance": [],
   "toc_visible": true
  },
  "kernelspec": {
   "display_name": "Python 3",
   "language": "python",
   "name": "python3"
  },
  "language_info": {
   "codemirror_mode": {
    "name": "ipython",
    "version": 3
   },
   "file_extension": ".py",
   "mimetype": "text/x-python",
   "name": "python",
   "nbconvert_exporter": "python",
   "pygments_lexer": "ipython3",
   "version": "3.8.2"
  }
 },
 "nbformat": 4,
 "nbformat_minor": 1
}
